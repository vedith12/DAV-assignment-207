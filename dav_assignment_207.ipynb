{
 "cells": [
  {
   "cell_type": "markdown",
   "metadata": {},
   "source": [
    "IMPORTING THE DATASET"
   ]
  },
  {
   "cell_type": "code",
   "execution_count": 2,
   "metadata": {},
   "outputs": [
    {
     "name": "stdout",
     "output_type": "stream",
     "text": [
      "DataSet info: \n",
      "<class 'pandas.core.frame.DataFrame'>\n",
      "RangeIndex: 1025 entries, 0 to 1024\n",
      "Data columns (total 13 columns):\n",
      " #   Column     Non-Null Count  Dtype \n",
      "---  ------     --------------  ----- \n",
      " 0   id         1025 non-null   int64 \n",
      " 1   name       1025 non-null   object\n",
      " 2   height     1025 non-null   int64 \n",
      " 3   weight     1025 non-null   int64 \n",
      " 4   hp         1025 non-null   int64 \n",
      " 5   attack     1025 non-null   int64 \n",
      " 6   defense    1025 non-null   int64 \n",
      " 7   s_attack   1025 non-null   int64 \n",
      " 8   s_defense  1025 non-null   int64 \n",
      " 9   speed      1025 non-null   int64 \n",
      " 10  type       1025 non-null   object\n",
      " 11  evo_set    1025 non-null   int64 \n",
      " 12  info       1025 non-null   object\n",
      "dtypes: int64(10), object(3)\n",
      "memory usage: 104.2+ KB\n"
     ]
    }
   ],
   "source": [
    "import pandas as pd\n",
    "df = pd.read_csv(r\"C:\\Users\\vanam\\Downloads\\pokedex.csv\")\n",
    "print(\"DataSet info: \")\n",
    "df.info()"
   ]
  },
  {
   "cell_type": "markdown",
   "metadata": {},
   "source": [
    "## PERFORMING OPERATIONS -- \n",
    "\n",
    "### NUMPY OPERATIONS:\n",
    "1. Creating arrays\n",
    "2. Array indexing and slicing\n",
    "3. Reshaping arrays\n",
    "4. Concatenation and splitting\n",
    "5. Universal Functions (Ufuncs)\n",
    "6. Aggregations\n",
    "7. Broadcasting\n",
    "8. Boolean Masks and Fancy Indexing\n",
    "9. Sorting \n",
    "10. Structured arrays"
   ]
  },
  {
   "cell_type": "code",
   "execution_count": 3,
   "metadata": {},
   "outputs": [
    {
     "name": "stdout",
     "output_type": "stream",
     "text": [
      "[45 60 80 ... 90 90 88]\n",
      "[49 62 82 ... 72 65 88]\n"
     ]
    }
   ],
   "source": [
    "import numpy as np\n",
    "\n",
    "#Creating a new numpy array\n",
    "attack_array = np.array(df[\"attack\"])\n",
    "\n",
    "#Converting a column to a numpy array\n",
    "hp_array = np.array(df[\"hp\"])\n",
    "\n",
    "\n",
    "\n",
    "print(hp_array)\n",
    "print(attack_array)"
   ]
  },
  {
   "cell_type": "code",
   "execution_count": 4,
   "metadata": {},
   "outputs": [
    {
     "name": "stdout",
     "output_type": "stream",
     "text": [
      "[45 60 80 39 58 78 44 59 79 45]\n",
      "[ 73 120  72  65  88]\n"
     ]
    }
   ],
   "source": [
    "#Getting first 10 Pokemon HP values\n",
    "print(hp_array[:10])\n",
    "\n",
    "#Getting last 5 Attack values\n",
    "print(attack_array[-5:])"
   ]
  },
  {
   "cell_type": "code",
   "execution_count": 5,
   "metadata": {},
   "outputs": [
    {
     "name": "stdout",
     "output_type": "stream",
     "text": [
      "[[45 60 80 39 58]\n",
      " [78 44 59 79 45]\n",
      " [50 60 40 45 65]\n",
      " [40 63 83 30 55]]\n"
     ]
    }
   ],
   "source": [
    "#Reshape the first 20 HP values into a 4x5 matrix\n",
    "hp_reshaped = hp_array[:20].reshape(4, 5)\n",
    "print(hp_reshaped)\n"
   ]
  },
  {
   "cell_type": "code",
   "execution_count": 6,
   "metadata": {},
   "outputs": [
    {
     "name": "stdout",
     "output_type": "stream",
     "text": [
      "[45 60 80 39 58 78 44 59 79 45 49 62 82 52 64 84 48 63 83 30]\n",
      "[array([45, 60, 80, 39, 58], dtype=int64), array([78, 44, 59, 79, 45], dtype=int64)]\n"
     ]
    }
   ],
   "source": [
    "#Concatenation\n",
    "concat_array = np.concatenate((hp_array[:10], attack_array[:10]))\n",
    "#Splitting\n",
    "split_hp = np.split(hp_array[:10], 2)\n",
    "\n",
    "print(concat_array)\n",
    "print(split_hp)\n"
   ]
  },
  {
   "cell_type": "code",
   "execution_count": 7,
   "metadata": {},
   "outputs": [
    {
     "name": "stdout",
     "output_type": "stream",
     "text": [
      "Square root function:\n",
      "[7.         7.87400787 9.05538514 ... 8.48528137 8.06225775 9.38083152]\n",
      "\n",
      "Multiplication function:\n",
      "[ 98 124 164 ... 144 130 176]\n",
      "\n",
      "Division function:\n",
      "[22.5 30.  40.  ... 49.  30.  44. ]\n",
      "\n",
      "Exponential function:\n",
      "[3.49342711e+19 1.14200739e+26 5.54062238e+34 ... 1.22040329e+39\n",
      " 1.22040329e+39 1.65163625e+38]\n",
      "\n",
      " Logarithemic function:\n",
      "[3.91202301 4.14313473 4.41884061 ... 4.29045944 4.18965474 4.48863637]\n",
      "\n",
      " sin function:\n",
      "[0.70710678 0.8660254  0.98480775 ... 0.99026807 0.8660254  0.99939083]\n",
      "\n",
      " cos function:\n",
      "[0.65605903 0.46947156 0.1391731  ... 0.30901699 0.42261826 0.0348995 ]\n",
      "\n",
      " absolute function\n",
      "[45 60 80 ... 90 90 88]\n",
      "\n",
      " rounding function\n",
      "[49 62 82 ... 72 65 88]\n",
      "\n",
      " greater than operator\n",
      "[False False False ... False False False]\n",
      "\n",
      " less than operator\n",
      "[ True  True  True ...  True  True  True]\n",
      "\n",
      " equals operator\n",
      "[False False False ... False False False]\n"
     ]
    }
   ],
   "source": [
    "hp_array = np.array(df[\"hp\"])\n",
    "attack_array = np.array(df[\"attack\"])\n",
    "speed_array = np.array(df[\"speed\"])\n",
    "\n",
    "# Square root of all attack values\n",
    "print(\"Square root function:\")\n",
    "print(np.sqrt(attack_array))\n",
    "\n",
    "# Multiply Attack by 2\n",
    "print(\"\\nMultiplication function:\")\n",
    "print(np.multiply(attack_array, 2))\n",
    "\n",
    "# Divide Speed by 2\n",
    "print(\"\\nDivision function:\")\n",
    "print(np.divide(speed_array, 2))\n",
    "\n",
    "# Exponential of HP values (e^x)\n",
    "print(\"\\nExponential function:\")\n",
    "print(np.exp(hp_array))\n",
    "\n",
    "# Logarithm of Attack values (Natural log)\n",
    "print(\"\\n Logarithemic function:\")\n",
    "print(np.log(attack_array + 1))  # Adding 1 to avoid log(0)\n",
    "\n",
    "# Convert Speed to Radians and Compute Sine\n",
    "print(\"\\n sin function:\")\n",
    "print(np.sin(np.radians(speed_array)))\n",
    "\n",
    "# Cosine of Attack values\n",
    "print(\"\\n cos function:\")\n",
    "print(np.cos(np.radians(attack_array)))\n",
    "\n",
    "# Absolute values (if any negative values exist)\n",
    "print(\"\\n absolute function\")\n",
    "print(np.abs(hp_array))\n",
    "\n",
    "# Rounding Attack values to nearest integer\n",
    "print(\"\\n rounding function\")\n",
    "print(np.round(attack_array))\n",
    "\n",
    "# Check which pokemon have HP greater than 300\n",
    "print(\"\\n greater than operator\")\n",
    "print(np.greater(hp_array, 300))\n",
    "\n",
    "# Check which pokemon have HP less than 100\n",
    "print(\"\\n less than operator\")\n",
    "print(np.less(hp_array, 100))\n",
    "\n",
    "# Find pokemon with exactly 50 Speed\n",
    "print(\"\\n equals operator\")\n",
    "print(np.equal(speed_array, 50))\n",
    "\n"
   ]
  },
  {
   "cell_type": "code",
   "execution_count": 8,
   "metadata": {},
   "outputs": [
    {
     "name": "stdout",
     "output_type": "stream",
     "text": [
      "\n",
      "total hp 71939\n",
      "\n",
      "mean attack:  77.52195121951219\n",
      "\n",
      "median speed:  65.0\n",
      "\n",
      "Standard Deviation in HP:  26.61806007561733\n",
      "\n",
      "Variance in attack:  886.1343961927424\n",
      "\n",
      "Lowest speed:  5\n",
      "\n",
      "Highest speed:  200\n",
      "\n",
      "cumulative sum of HP: \n",
      "[   45   105   185 ... 71761 71851 71939]\n"
     ]
    }
   ],
   "source": [
    "hp_array = np.array(df[\"hp\"])\n",
    "attack_array = np.array(df[\"attack\"])\n",
    "speed_array = np.array(df[\"speed\"])\n",
    "\n",
    "# Sum aggregation\n",
    "total_hp = np.sum(hp_array)\n",
    "\n",
    "# Mean (Average)\n",
    "mean_attack = np.mean(attack_array)\n",
    "\n",
    "# Median\n",
    "median_speed = np.median(speed_array) \n",
    "\n",
    "# Standard Deviation\n",
    "std_hp = np.std(hp_array) \n",
    "\n",
    "# Variance\n",
    "var_attack = np.var(attack_array) \n",
    "\n",
    "# Minimum and Maximum\n",
    "min_speed = np.min(speed_array)\n",
    "max_speed = np.max(speed_array)  \n",
    "print(\"\\ntotal hp\", total_hp)\n",
    "print(\"\\nmean attack: \", mean_attack)\n",
    "print(\"\\nmedian speed: \", median_speed)\n",
    "print(\"\\nStandard Deviation in HP: \", std_hp)\n",
    "print(\"\\nVariance in attack: \", var_attack)\n",
    "print(\"\\nLowest speed: \", min_speed)\n",
    "print(\"\\nHighest speed: \", max_speed)\n",
    "\n",
    "# Cumulative Sum\n",
    "print(\"\\ncumulative sum of HP: \")\n",
    "print(np.cumsum(hp_array))  # Running total of HP\n",
    "\n",
    "\n"
   ]
  },
  {
   "cell_type": "code",
   "execution_count": 9,
   "metadata": {},
   "outputs": [
    {
     "name": "stdout",
     "output_type": "stream",
     "text": [
      "      id        name  height  weight   hp  attack  defense  s_attack  \\\n",
      "893  894   regieleki      12    1450   80     100       50       100   \n",
      "290  291     ninjask       8     120   61      90       45        50   \n",
      "794  795   pheromosa      18     250   71     137       37       137   \n",
      "100  101   electrode      12     666   60      50       70        80   \n",
      "385  386      deoxys      17     608   50     150       50       150   \n",
      "..   ...         ...     ...     ...  ...     ...      ...       ...   \n",
      "998  999  gimmighoul       3      50   45      30       70        75   \n",
      "828  829  gossifleur       4      22   40      40       60        40   \n",
      "445  446    munchlax       6    1050  135      85       40        40   \n",
      "212  213     shuckle       6     205   20      10      230        10   \n",
      "770  771   pyukumuku       3      12   55      60      130        30   \n",
      "\n",
      "     s_defense  speed            type  evo_set  \\\n",
      "893         50    200      {electric}      472   \n",
      "290         50    160    {bug,flying}      144   \n",
      "794         37    151  {bug,fighting}      416   \n",
      "100         80    150      {electric}       44   \n",
      "385         50    150       {psychic}      202   \n",
      "..         ...    ...             ...      ...   \n",
      "998         70     10         {ghost}      528   \n",
      "828         60     10         {grass}      437   \n",
      "445         85      5        {normal}       72   \n",
      "212        230      5      {bug,rock}      107   \n",
      "770        130      5         {water}      398   \n",
      "\n",
      "                                                  info  \n",
      "893  This Pokémon is a cluster of electrical energy...  \n",
      "290  NINJASK moves around at such a high speed that...  \n",
      "794  One of the dangerous Ultra Beasts, it has been...  \n",
      "100  It stores electric energy under very high pres...  \n",
      "385  The DNA of a space virus underwent a sudden mu...  \n",
      "..                                                 ...  \n",
      "998  This Pokémon was born inside a treasure chest ...  \n",
      "828  It anchors itself in the ground with its singl...  \n",
      "445  It wolfs down its weight in food once a day, s...  \n",
      "212  The BERRIES it stores in its vase-like shell d...  \n",
      "770  It’s covered in a slime that keeps its skin mo...  \n",
      "\n",
      "[1025 rows x 13 columns]\n"
     ]
    }
   ],
   "source": [
    "# Sorting pokemon by Speed\n",
    "df_sorted_speed = df.sort_values(\"speed\", ascending=False)\n",
    "print(df_sorted_speed)\n"
   ]
  },
  {
   "cell_type": "code",
   "execution_count": 10,
   "metadata": {},
   "outputs": [
    {
     "name": "stdout",
     "output_type": "stream",
     "text": [
      "[112 439 128 ... 288 408 797]\n",
      "[150 150 151 160 200]\n"
     ]
    }
   ],
   "source": [
    "speed_array = np.array(df[\"speed\"])\n",
    "attack_array = np.array(df[\"attack\"])\n",
    "\n",
    "# Get the indices of sorted Attack values\n",
    "sorted_indices = np.argsort(attack_array)\n",
    "print(sorted_indices)\n",
    "\n",
    "# Partition at index 5 (Top 5 fastest pokemon)\n",
    "top_5_fastest = np.partition(speed_array, -5)[-5:]\n",
    "print(top_5_fastest)\n"
   ]
  },
  {
   "cell_type": "code",
   "execution_count": 11,
   "metadata": {},
   "outputs": [
    {
     "name": "stdout",
     "output_type": "stream",
     "text": [
      "[54 67 87 ... 77 70 93]\n"
     ]
    }
   ],
   "source": [
    "#Broadcasting: \n",
    "#Increase all attack values by 5\n",
    "attack_array += 5\n",
    "print(attack_array)"
   ]
  },
  {
   "cell_type": "code",
   "execution_count": 12,
   "metadata": {},
   "outputs": [
    {
     "name": "stdout",
     "output_type": "stream",
     "text": [
      "        id          name  height  weight   hp  attack  defense  s_attack  \\\n",
      "38      39    jigglypuff       5      55  115      45       20        45   \n",
      "39      40    wigglytuff      10     120  140      70       45        85   \n",
      "88      89           muk      12     300  105     105       75        65   \n",
      "111    112        rhydon      19    1200  105     130      120        45   \n",
      "112    113       chansey      11     346  250       5        5        35   \n",
      "...    ...           ...     ...     ...  ...     ...      ...       ...   \n",
      "1002  1003       ting-lu      27    6997  155     110      125        55   \n",
      "1004  1005  roaring-moon      20    3800  105     139       71        55   \n",
      "1018  1019     hydrapple      18     930  106      80      110       120   \n",
      "1019  1020  gouging-fire      35    5900  105     115      121        65   \n",
      "1020  1021   raging-bolt      52    4800  125      73       91       137   \n",
      "\n",
      "      s_defense  speed               type  evo_set  \\\n",
      "38           25     20     {normal,fairy}       16   \n",
      "39           50     45     {normal,fairy}       16   \n",
      "88          100     50           {poison}       38   \n",
      "111          45     40      {ground,rock}       50   \n",
      "112         105     50           {normal}       51   \n",
      "...         ...    ...                ...      ...   \n",
      "1002         80     45      {dark,ground}      531   \n",
      "1004        101    119      {dragon,dark}      533   \n",
      "1018         80     44     {grass,dragon}      442   \n",
      "1019         93     91      {fire,dragon}      544   \n",
      "1020         89     75  {electric,dragon}      545   \n",
      "\n",
      "                                                   info  \n",
      "38    When its huge eyes light up, it sings a myster...  \n",
      "39    The body is soft and rubbery. When angered, it...  \n",
      "88    Thickly covered with a filthy, vile sludge. It...  \n",
      "111   Protected by an armor-like hide, it is capable...  \n",
      "112   A rare and elusive POKéMON that is said to bri...  \n",
      "...                                                 ...  \n",
      "1002  The fear poured into an ancient ritual vessel ...  \n",
      "1004  It is possible that this is the creature liste...  \n",
      "1018  Seven syrpents live inside an apple made of sy...  \n",
      "1019  There are scant few reports of this creature b...  \n",
      "1020  It's said to incinerate everything around it w...  \n",
      "\n",
      "[94 rows x 13 columns]\n"
     ]
    }
   ],
   "source": [
    "#Boolean Masking: \n",
    "#Get pokemon with HP greater than 100\n",
    "high_hp_pokemon = df[df[\"hp\"] > 100]\n",
    "print(high_hp_pokemon)\n"
   ]
  },
  {
   "cell_type": "code",
   "execution_count": 39,
   "metadata": {},
   "outputs": [
    {
     "name": "stdout",
     "output_type": "stream",
     "text": [
      "    id       name  height  weight  hp  attack  defense  s_attack  s_defense  \\\n",
      "0    1  bulbasaur       7      69  45      49       49        65         65   \n",
      "5    6  charizard      17     905  78      84       78       109         85   \n",
      "10  11    metapod       7      99  50      20       55        25         25   \n",
      "\n",
      "    speed            type  evo_set  \\\n",
      "0      45  {grass,poison}        1   \n",
      "5     100   {fire,flying}        2   \n",
      "10     30           {bug}        4   \n",
      "\n",
      "                                                 info  attack_boosted  \\\n",
      "0   A strange seed was planted on its back at birt...              59   \n",
      "5   Spits fire that is hot enough to melt boulders...              94   \n",
      "10  This POKéMON is vulnerable to attack while its...              30   \n",
      "\n",
      "    speed_halved  attack_modified  speed_rank  total_stats  speed_modified  \\\n",
      "0           22.5             49.0       748.0          188            45.0   \n",
      "5           50.0             84.0       128.0          340           150.0   \n",
      "10          15.0             20.0       916.0          155            30.0   \n",
      "\n",
      "    power_score  \n",
      "0            94  \n",
      "5           184  \n",
      "10           50  \n"
     ]
    }
   ],
   "source": [
    "# Fancy Indexing:\n",
    "#Select specific pokemon IDs\n",
    "selected_pokemon = df.iloc[[0, 5, 10]]\n",
    "print(selected_pokemon)"
   ]
  },
  {
   "cell_type": "code",
   "execution_count": 14,
   "metadata": {},
   "outputs": [
    {
     "name": "stdout",
     "output_type": "stream",
     "text": [
      "[(   1, 'bulbasaur', 45) (   2, 'ivysaur', 60) (   3, 'venusaur', 80) ...\n",
      " (1023, 'iron-crown', 90) (1024, 'terapagos', 90) (1025, 'pecharunt', 88)]\n"
     ]
    }
   ],
   "source": [
    "import numpy as np\n",
    "\n",
    "#Structured Array: \n",
    "structured_array = np.array(\n",
    "    list(zip(df[\"id\"], df[\"name\"], df[\"hp\"])),\n",
    "    dtype=[(\"ID\", \"i4\"), (\"Name\", \"U20\"), (\"HP\", \"i4\")]\n",
    ")\n",
    "print(structured_array)"
   ]
  },
  {
   "cell_type": "markdown",
   "metadata": {},
   "source": [
    "## Pandas Operations: \n",
    "1. Pandas Series\n",
    "2. Pandas DataFrame\n",
    "3. Indexing and Selecting\n",
    "4. Index Alignment and Operations\n",
    "5. Handling Missing data\n",
    "6. Heirarchial Indexing "
   ]
  },
  {
   "cell_type": "code",
   "execution_count": 15,
   "metadata": {},
   "outputs": [
    {
     "name": "stdout",
     "output_type": "stream",
     "text": [
      "\n",
      " 0        45\n",
      "1        60\n",
      "2        80\n",
      "3        39\n",
      "4        58\n",
      "       ... \n",
      "1020    125\n",
      "1021     90\n",
      "1022     90\n",
      "1023     90\n",
      "1024     88\n",
      "Name: hp, Length: 1025, dtype: int64\n"
     ]
    }
   ],
   "source": [
    "# Create Series from HP column\n",
    "hp_series = pd.Series(df[\"hp\"])\n",
    "print(\"\\n\",hp_series)\n"
   ]
  },
  {
   "cell_type": "code",
   "execution_count": 16,
   "metadata": {},
   "outputs": [],
   "source": [
    "# Arithmetic Operations\n",
    "df[\"attack_boosted\"] = df[\"attack\"] + 10\n",
    "df[\"speed_halved\"] = df[\"speed\"] / 2\n",
    "\n",
    "# Conditional Operations\n",
    "strong_pokemon = df[df[\"attack\"] > 100]\n",
    "fast_pokemon = df[df[\"speed\"] > 80]\n",
    "\n",
    "# Apply a function to each value\n",
    "df[\"attack_modified\"] = df[\"attack\"].apply(lambda x: x * 1.2 if x > 100 else x)\n"
   ]
  },
  {
   "cell_type": "code",
   "execution_count": 17,
   "metadata": {},
   "outputs": [
    {
     "name": "stdout",
     "output_type": "stream",
     "text": [
      "79460\n",
      "67.18634146341464\n",
      "1\n",
      "230\n",
      "type\n",
      "{normal}          75\n",
      "{water}           74\n",
      "{grass}           47\n",
      "{psychic}         39\n",
      "{fire}            36\n",
      "                  ..\n",
      "{flying,water}     1\n",
      "{poison,bug}       1\n",
      "{dark,normal}      1\n",
      "{ghost,dark}       1\n",
      "{poison,ghost}     1\n",
      "Name: count, Length: 203, dtype: int64\n"
     ]
    }
   ],
   "source": [
    "# operations on series\n",
    "print(df[\"attack\"].sum())  # Total Attack\n",
    "print(df[\"speed\"].mean())  # Average Speed\n",
    "print(df[\"hp\"].min())      # Minimum HP\n",
    "print(df[\"defense\"].max()) # Maximum Defense\n",
    "print(df[\"type\"].value_counts())  # Count pokemon per Type\n"
   ]
  },
  {
   "cell_type": "code",
   "execution_count": 18,
   "metadata": {},
   "outputs": [
    {
     "name": "stdout",
     "output_type": "stream",
     "text": [
      "0       748.0\n",
      "1       554.0\n",
      "2       321.0\n",
      "3       489.0\n",
      "4       321.0\n",
      "        ...  \n",
      "1020    373.0\n",
      "1021     30.0\n",
      "1022    159.0\n",
      "1023    554.0\n",
      "1024    257.0\n",
      "Name: speed_rank, Length: 1025, dtype: float64\n"
     ]
    }
   ],
   "source": [
    "# Sort pokemon by Attack (Descending)\n",
    "sorted_attack = df[\"attack\"].sort_values(ascending=False)\n",
    "\n",
    "# Rank pokemon based on Speed\n",
    "df[\"speed_rank\"] = df[\"speed\"].rank(method=\"min\", ascending=False)\n",
    "print(df[\"speed_rank\"])\n"
   ]
  },
  {
   "cell_type": "code",
   "execution_count": 19,
   "metadata": {},
   "outputs": [],
   "source": [
    "# Fill missing values in Attack with the average\n",
    "df.update(df[[\"attack\"]].fillna(df[\"attack\"].mean()))\n",
    "\n",
    "\n",
    "# Drop rows with missing Speed values\n",
    "df.dropna(subset=[\"speed\"], inplace=True)\n"
   ]
  },
  {
   "cell_type": "code",
   "execution_count": 20,
   "metadata": {},
   "outputs": [
    {
     "name": "stdout",
     "output_type": "stream",
     "text": [
      "\n",
      "               name               type   hp\n",
      "0        bulbasaur     {grass,poison}   45\n",
      "1          ivysaur     {grass,poison}   60\n",
      "2         venusaur     {grass,poison}   80\n",
      "3       charmander             {fire}   39\n",
      "4       charmeleon             {fire}   58\n",
      "...            ...                ...  ...\n",
      "1020   raging-bolt  {electric,dragon}  125\n",
      "1021  iron-boulder     {rock,psychic}   90\n",
      "1022    iron-crown    {steel,psychic}   90\n",
      "1023     terapagos           {normal}   90\n",
      "1024     pecharunt     {poison,ghost}   88\n",
      "\n",
      "[1025 rows x 3 columns]\n"
     ]
    }
   ],
   "source": [
    "#DATAFRAME - Operations \n",
    "# Create a subset DataFrame\n",
    "subset_df = df[[\"name\", \"type\", \"hp\"]]\n",
    "print(\"\\n\",subset_df)"
   ]
  },
  {
   "cell_type": "code",
   "execution_count": 21,
   "metadata": {},
   "outputs": [
    {
     "name": "stdout",
     "output_type": "stream",
     "text": [
      "        id          name  height  weight   hp  attack  defense  s_attack  \\\n",
      "33      34      nidoking      14     620   81     102       77        85   \n",
      "56      57      primeape      10     320   65     105       60        60   \n",
      "58      59      arcanine      19    1550   90     110       80       100   \n",
      "67      68       machamp      16    1300   90     130       80        65   \n",
      "70      71    victreebel      17     155   80     105       65       100   \n",
      "...    ...           ...     ...     ...  ...     ...      ...       ...   \n",
      "1013  1014       okidogi      18     922   88     128      115        58   \n",
      "1016  1017       ogerpon      12     398   80     120       84        60   \n",
      "1017  1018    archaludon      20     600   90     105      130       125   \n",
      "1019  1020  gouging-fire      35    5900  105     115      121        65   \n",
      "1021  1022  iron-boulder      15    1625   90     120       80        68   \n",
      "\n",
      "      s_defense  speed               type  evo_set  \\\n",
      "33           75     85    {poison,ground}       13   \n",
      "56           70     95         {fighting}       24   \n",
      "58           80     95             {fire}       25   \n",
      "67           85     55         {fighting}       28   \n",
      "70           70     70     {grass,poison}       29   \n",
      "...         ...    ...                ...      ...   \n",
      "1013         86     80  {poison,fighting}      540   \n",
      "1016         96    110            {grass}      543   \n",
      "1017         65     85     {steel,dragon}      465   \n",
      "1019         93     91      {fire,dragon}      544   \n",
      "1021        108    124     {rock,psychic}      547   \n",
      "\n",
      "                                                   info  attack_boosted  \\\n",
      "33    It uses its powerful tail in battle to smash, ...             112   \n",
      "56    Always furious and tenacious to boot. It will ...             115   \n",
      "58    A POKéMON that has been admired since the past...             120   \n",
      "67    Using its heavy muscles, it throws powerful pu...             140   \n",
      "70    Said to live in huge colonies deep in jungles,...             115   \n",
      "...                                                 ...             ...   \n",
      "1013  After all its muscles were stimulated by the t...             138   \n",
      "1016  This Pokémon's type changes based on which mas...             130   \n",
      "1017  It gathers static electricity from its surroun...             115   \n",
      "1019  There are scant few reports of this creature b...             125   \n",
      "1021  It resembles a Pokémon described in a dubious ...             130   \n",
      "\n",
      "      speed_halved  attack_modified  speed_rank  \n",
      "33            42.5            122.4       264.0  \n",
      "56            47.5            126.0       174.0  \n",
      "58            47.5            132.0       174.0  \n",
      "67            27.5            156.0       631.0  \n",
      "70            35.0            126.0       421.0  \n",
      "...            ...              ...         ...  \n",
      "1013          40.0            153.6       321.0  \n",
      "1016          55.0            144.0        69.0  \n",
      "1017          42.5            126.0       264.0  \n",
      "1019          45.5            138.0       215.0  \n",
      "1021          62.0            144.0        30.0  \n",
      "\n",
      "[216 rows x 17 columns]\n",
      "   id        name  height  weight  hp  attack  defense  s_attack  s_defense  \\\n",
      "0   1   bulbasaur       7      69  45      49       49        65         65   \n",
      "1   2     ivysaur      10     130  60      62       63        80         80   \n",
      "2   3    venusaur      20    1000  80      82       83       100        100   \n",
      "3   4  charmander       6      85  39      52       43        60         50   \n",
      "4   5  charmeleon      11     190  58      64       58        80         65   \n",
      "\n",
      "   speed            type  evo_set  \\\n",
      "0     45  {grass,poison}        1   \n",
      "1     60  {grass,poison}        1   \n",
      "2     80  {grass,poison}        1   \n",
      "3     65          {fire}        2   \n",
      "4     80          {fire}        2   \n",
      "\n",
      "                                                info  attack_boosted  \\\n",
      "0  A strange seed was planted on its back at birt...              59   \n",
      "1  When the bulb on its back grows large, it appe...              72   \n",
      "2  The plant blooms when it is absorbing solar en...              92   \n",
      "3  Obviously prefers hot places. When it rains, s...              62   \n",
      "4  When it swings its burning tail, it elevates t...              74   \n",
      "\n",
      "   speed_halved  attack_modified  speed_rank  \n",
      "0          22.5             49.0       748.0  \n",
      "1          30.0             62.0       554.0  \n",
      "2          40.0             82.0       321.0  \n",
      "3          32.5             52.0       489.0  \n",
      "4          40.0             64.0       321.0           id        name  height  weight  hp  attack  defense  s_attack  \\\n",
      "1022  1023  iron-crown      16    1560  90      72      100       122   \n",
      "1023  1024   terapagos       2      65  90      65       85        65   \n",
      "1024  1025   pecharunt       3       3  88      88      160        88   \n",
      "\n",
      "      s_defense  speed             type  evo_set  \\\n",
      "1022        108     98  {steel,psychic}      546   \n",
      "1023         85     60         {normal}      548   \n",
      "1024         88     88   {poison,ghost}      549   \n",
      "\n",
      "                                                   info  attack_boosted  \\\n",
      "1022  It resembles a mysterious object introduced in...              82   \n",
      "1023  Terapagos protects itself using its power to t...              75   \n",
      "1024  It feeds others toxic mochi that draw out desi...              98   \n",
      "\n",
      "      speed_halved  attack_modified  speed_rank  \n",
      "1022          49.0             72.0       159.0  \n",
      "1023          30.0             65.0       554.0  \n",
      "1024          44.0             88.0       257.0  \n"
     ]
    }
   ],
   "source": [
    "# Select multiple columns\n",
    "df_subset = df[[\"name\", \"attack\", \"speed\"]]\n",
    "\n",
    "# Select rows where Attack > 100\n",
    "strong_pokemon = df[df[\"attack\"] > 100]\n",
    "print(strong_pokemon)\n",
    "\n",
    "# Select rows using index\n",
    "first_five = df.iloc[:5]  # First 5 rows\n",
    "last_three = df.iloc[-3:]  # Last 3 rows\n",
    "print(first_five, last_three)\n"
   ]
  },
  {
   "cell_type": "code",
   "execution_count": 22,
   "metadata": {},
   "outputs": [
    {
     "name": "stdout",
     "output_type": "stream",
     "text": [
      "        id  height  weight   hp  attack  defense  s_attack  s_defense  speed  \\\n",
      "0        1       7      69   45      49       49        65         65     45   \n",
      "1        2      10     130   60      62       63        80         80     60   \n",
      "2        3      20    1000   80      82       83       100        100     80   \n",
      "3        4       6      85   39      52       43        60         50     65   \n",
      "4        5      11     190   58      64       58        80         65     80   \n",
      "...    ...     ...     ...  ...     ...      ...       ...        ...    ...   \n",
      "1020  1021      52    4800  125      73       91       137         89     75   \n",
      "1021  1022      15    1625   90     120       80        68        108    124   \n",
      "1022  1023      16    1560   90      72      100       122        108     98   \n",
      "1023  1024       2      65   90      65       85        65         85     60   \n",
      "1024  1025       3       3   88      88      160        88         88     88   \n",
      "\n",
      "      evo_set  attack_boosted  speed_halved  attack_modified  speed_rank  \\\n",
      "0           1              59          22.5             49.0       748.0   \n",
      "1           1              72          30.0             62.0       554.0   \n",
      "2           1              92          40.0             82.0       321.0   \n",
      "3           2              62          32.5             52.0       489.0   \n",
      "4           2              74          40.0             64.0       321.0   \n",
      "...       ...             ...           ...              ...         ...   \n",
      "1020      545              83          37.5             73.0       373.0   \n",
      "1021      547             130          62.0            144.0        30.0   \n",
      "1022      546              82          49.0             72.0       159.0   \n",
      "1023      548              75          30.0             65.0       554.0   \n",
      "1024      549              98          44.0             88.0       257.0   \n",
      "\n",
      "      total_stats  \n",
      "0             188  \n",
      "1             245  \n",
      "2             325  \n",
      "3             199  \n",
      "4             260  \n",
      "...           ...  \n",
      "1020          364  \n",
      "1021          414  \n",
      "1022          360  \n",
      "1023          300  \n",
      "1024          424  \n",
      "\n",
      "[1025 rows x 15 columns]         id  height  weight   hp  attack  defense  s_attack  s_defense  speed  \\\n",
      "0        2      14     138   90      98       98       130        130     90   \n",
      "1        4      20     260  120     124      126       160        160    120   \n",
      "2        6      40    2000  160     164      166       200        200    160   \n",
      "3        8      12     170   78     104       86       120        100    130   \n",
      "4       10      22     380  116     128      116       160        130    160   \n",
      "...    ...     ...     ...  ...     ...      ...       ...        ...    ...   \n",
      "1020  2042     104    9600  250     146      182       274        178    150   \n",
      "1021  2044      30    3250  180     240      160       136        216    248   \n",
      "1022  2046      32    3120  180     144      200       244        216    196   \n",
      "1023  2048       4     130  180     130      170       130        170    120   \n",
      "1024  2050       6       6  176     176      320       176        176    176   \n",
      "\n",
      "      evo_set  attack_boosted  speed_halved  attack_modified  speed_rank  \\\n",
      "0           2             118          45.0             98.0      1496.0   \n",
      "1           2             144          60.0            124.0      1108.0   \n",
      "2           2             184          80.0            164.0       642.0   \n",
      "3           4             124          65.0            104.0       978.0   \n",
      "4           4             148          80.0            128.0       642.0   \n",
      "...       ...             ...           ...              ...         ...   \n",
      "1020     1090             166          75.0            146.0       746.0   \n",
      "1021     1094             260         124.0            288.0        60.0   \n",
      "1022     1092             164          98.0            144.0       318.0   \n",
      "1023     1096             150          60.0            130.0      1108.0   \n",
      "1024     1098             196          88.0            176.0       514.0   \n",
      "\n",
      "      total_stats  \n",
      "0             376  \n",
      "1             490  \n",
      "2             650  \n",
      "3             398  \n",
      "4             520  \n",
      "...           ...  \n",
      "1020          728  \n",
      "1021          828  \n",
      "1022          720  \n",
      "1023          600  \n",
      "1024          848  \n",
      "\n",
      "[1025 rows x 15 columns]\n"
     ]
    }
   ],
   "source": [
    "# Create a new column (Total Stats)\n",
    "df[\"total_stats\"] = df[\"attack\"] + df[\"defense\"] + df[\"speed\"] + df[\"hp\"]\n",
    "\n",
    "# Multiply entire DataFrame by 2 (only numeric columns)\n",
    "df_numeric = df.select_dtypes(include=\"number\")\n",
    "df_doubled = df_numeric * 2\n",
    "print(df_numeric, df_doubled)\n"
   ]
  },
  {
   "cell_type": "code",
   "execution_count": 23,
   "metadata": {},
   "outputs": [
    {
     "name": "stdout",
     "output_type": "stream",
     "text": [
      "type\n",
      "{bug,dark}         102.000000\n",
      "{bug,electric}      69.000000\n",
      "{bug,fairy}         50.000000\n",
      "{bug,fighting}     134.000000\n",
      "{bug,fire}          72.500000\n",
      "                      ...    \n",
      "{water,poison}      68.333333\n",
      "{water,psychic}     82.833333\n",
      "{water,rock}        89.200000\n",
      "{water,steel}       86.000000\n",
      "{water}             69.500000\n",
      "Name: attack, Length: 203, dtype: float64\n",
      "type\n",
      "{bug,dark}          92\n",
      "{bug,electric}     108\n",
      "{bug,fairy}        124\n",
      "{bug,fighting}     151\n",
      "{bug,fire}         100\n",
      "                  ... \n",
      "{water,poison}     100\n",
      "{water,psychic}    115\n",
      "{water,rock}        74\n",
      "{water,steel}       60\n",
      "{water}            136\n",
      "Name: speed, Length: 203, dtype: int64\n"
     ]
    }
   ],
   "source": [
    "# Group pokemon by Type and get Average Attack\n",
    "type_attack = df.groupby(\"type\")[\"attack\"].mean()\n",
    "print(type_attack)\n",
    "\n",
    "# Get Maximum Speed per Type\n",
    "type_speed = df.groupby(\"type\")[\"speed\"].max()\n",
    "print(type_speed)"
   ]
  },
  {
   "cell_type": "code",
   "execution_count": 24,
   "metadata": {},
   "outputs": [
    {
     "name": "stdout",
     "output_type": "stream",
     "text": [
      "      id       name  height  weight   hp  attack  defense  s_attack  \\\n",
      "797  798    kartana       3       1   59     181      131        59   \n",
      "408  409  rampardos      16    1025   97     165       60        65   \n",
      "288  289    slaking      20    1305  150     160      100        95   \n",
      "485  486  regigigas      37    4200  110     160      110        80   \n",
      "643  644     zekrom      29    3450  100     150      120       120   \n",
      "..   ...        ...     ...     ...  ...     ...      ...       ...   \n",
      "241  242    blissey      15     468  255      10       10        75   \n",
      "128  129   magikarp       9     100   20      10       55        15   \n",
      "212  213    shuckle       6     205   20      10      230        10   \n",
      "439  440    happiny       6     244  100       5        5        15   \n",
      "112  113    chansey      11     346  250       5        5        35   \n",
      "\n",
      "     s_defense  speed               type  evo_set  \\\n",
      "797         31    109      {grass,steel}      419   \n",
      "408         50     58             {rock}      211   \n",
      "288         65    100           {normal}      143   \n",
      "485        110    100           {normal}      247   \n",
      "643        100     90  {dragon,electric}      331   \n",
      "..         ...    ...                ...      ...   \n",
      "241        135     55           {normal}       51   \n",
      "128         20     80            {water}       64   \n",
      "212        230      5         {bug,rock}      107   \n",
      "439         65     30           {normal}       51   \n",
      "112        105     50           {normal}       51   \n",
      "\n",
      "                                                  info  attack_boosted  \\\n",
      "797  This Ultra Beast came from the Ultra Wormhole....             191   \n",
      "408  Its powerful head butt has enough power to sha...             175   \n",
      "288  SLAKING spends all day lying down and lolling ...             170   \n",
      "485  There is an enduring legend that states this P...             170   \n",
      "643  Concealing itself in lightning clouds, it flie...             160   \n",
      "..                                                 ...             ...   \n",
      "241  Anyone who takes even one bite of BLISSEY's eg...              20   \n",
      "128  In the distant past, it was somewhat stronger ...              20   \n",
      "212  The BERRIES it stores in its vase-like shell d...              20   \n",
      "439  It loves round white things. It carries an egg...              15   \n",
      "112  A rare and elusive POKéMON that is said to bri...              15   \n",
      "\n",
      "     speed_halved  attack_modified  speed_rank  total_stats  \n",
      "797          54.5            217.2        83.0          480  \n",
      "408          29.0            198.0       613.0          380  \n",
      "288          50.0            192.0       128.0          510  \n",
      "485          50.0            192.0       128.0          480  \n",
      "643          45.0            180.0       220.0          460  \n",
      "..            ...              ...         ...          ...  \n",
      "241          27.5             10.0       631.0          330  \n",
      "128          40.0             10.0       321.0          165  \n",
      "212           2.5             10.0      1023.0          265  \n",
      "439          15.0              5.0       916.0          140  \n",
      "112          25.0              5.0       674.0          310  \n",
      "\n",
      "[1025 rows x 18 columns]\n",
      "      id       name  height  weight   hp  attack  defense  s_attack  \\\n",
      "797  798    kartana       3       1   59     181      131        59   \n",
      "408  409  rampardos      16    1025   97     165       60        65   \n",
      "288  289    slaking      20    1305  150     160      100        95   \n",
      "485  486  regigigas      37    4200  110     160      110        80   \n",
      "382  383    groudon      35    9500  100     150      140       100   \n",
      "..   ...        ...     ...     ...  ...     ...      ...       ...   \n",
      "212  213    shuckle       6     205   20      10      230        10   \n",
      "241  242    blissey      15     468  255      10       10        75   \n",
      "128  129   magikarp       9     100   20      10       55        15   \n",
      "439  440    happiny       6     244  100       5        5        15   \n",
      "112  113    chansey      11     346  250       5        5        35   \n",
      "\n",
      "     s_defense  speed           type  evo_set  \\\n",
      "797         31    109  {grass,steel}      419   \n",
      "408         50     58         {rock}      211   \n",
      "288         65    100       {normal}      143   \n",
      "485        110    100       {normal}      247   \n",
      "382         90     90       {ground}      199   \n",
      "..         ...    ...            ...      ...   \n",
      "212        230      5     {bug,rock}      107   \n",
      "241        135     55       {normal}       51   \n",
      "128         20     80        {water}       64   \n",
      "439         65     30       {normal}       51   \n",
      "112        105     50       {normal}       51   \n",
      "\n",
      "                                                  info  attack_boosted  \\\n",
      "797  This Ultra Beast came from the Ultra Wormhole....             191   \n",
      "408  Its powerful head butt has enough power to sha...             175   \n",
      "288  SLAKING spends all day lying down and lolling ...             170   \n",
      "485  There is an enduring legend that states this P...             170   \n",
      "382  GROUDON has long been described in  mythology ...             160   \n",
      "..                                                 ...             ...   \n",
      "212  The BERRIES it stores in its vase-like shell d...              20   \n",
      "241  Anyone who takes even one bite of BLISSEY's eg...              20   \n",
      "128  In the distant past, it was somewhat stronger ...              20   \n",
      "439  It loves round white things. It carries an egg...              15   \n",
      "112  A rare and elusive POKéMON that is said to bri...              15   \n",
      "\n",
      "     speed_halved  attack_modified  speed_rank  total_stats  \n",
      "797          54.5            217.2        83.0          480  \n",
      "408          29.0            198.0       613.0          380  \n",
      "288          50.0            192.0       128.0          510  \n",
      "485          50.0            192.0       128.0          480  \n",
      "382          45.0            180.0       220.0          480  \n",
      "..            ...              ...         ...          ...  \n",
      "212           2.5             10.0      1023.0          265  \n",
      "241          27.5             10.0       631.0          330  \n",
      "128          40.0             10.0       321.0          165  \n",
      "439          15.0              5.0       916.0          140  \n",
      "112          25.0              5.0       674.0          310  \n",
      "\n",
      "[1025 rows x 18 columns]\n"
     ]
    }
   ],
   "source": [
    "# Sort pokemon by Attack (Descending)\n",
    "df_sorted = df.sort_values(by=\"attack\", ascending=False)\n",
    "print(df_sorted)\n",
    "# Sort by Multiple Columns (Sort by Attack, then Speed)\n",
    "df_sorted = df.sort_values(by=[\"attack\", \"speed\"], ascending=[False, True])\n",
    "print(df_sorted)"
   ]
  },
  {
   "cell_type": "code",
   "execution_count": 25,
   "metadata": {},
   "outputs": [
    {
     "name": "stdout",
     "output_type": "stream",
     "text": [
      "0        45.0\n",
      "1        60.0\n",
      "2        80.0\n",
      "3        65.0\n",
      "4        80.0\n",
      "        ...  \n",
      "1020     75.0\n",
      "1021    186.0\n",
      "1022    147.0\n",
      "1023     60.0\n",
      "1024    132.0\n",
      "Name: speed_modified, Length: 1025, dtype: float64\n",
      "0        94\n",
      "1       122\n",
      "2       162\n",
      "3       117\n",
      "4       144\n",
      "       ... \n",
      "1020    148\n",
      "1021    244\n",
      "1022    170\n",
      "1023    125\n",
      "1024    176\n",
      "Name: power_score, Length: 1025, dtype: int64\n"
     ]
    }
   ],
   "source": [
    "# Apply a function to an entire column\n",
    "df[\"speed_modified\"] = df[\"speed\"].apply(lambda x: x * 1.5 if x > 80 else x)\n",
    "\n",
    "# Apply function to multiple columns (Row-wise)\n",
    "df[\"power_score\"] = df.apply(lambda row: row[\"attack\"] + row[\"speed\"], axis=1)\n",
    "print(df[\"speed_modified\"])\n",
    "print(df[\"power_score\"])\n"
   ]
  },
  {
   "cell_type": "code",
   "execution_count": 26,
   "metadata": {},
   "outputs": [
    {
     "name": "stdout",
     "output_type": "stream",
     "text": [
      "\n",
      " Missing Values in Dataset:\n",
      "id                 0\n",
      "name               0\n",
      "height             0\n",
      "weight             0\n",
      "hp                 0\n",
      "attack             0\n",
      "defense            0\n",
      "s_attack           0\n",
      "s_defense          0\n",
      "speed              0\n",
      "type               0\n",
      "evo_set            0\n",
      "info               0\n",
      "attack_boosted     0\n",
      "speed_halved       0\n",
      "attack_modified    0\n",
      "speed_rank         0\n",
      "total_stats        0\n",
      "speed_modified     0\n",
      "power_score        0\n",
      "dtype: int64\n",
      "\n",
      " Filling Missing Attack Values with Mean:\n",
      "         name  attack\n",
      "0   bulbasaur      49\n",
      "1     ivysaur      62\n",
      "2    venusaur      82\n",
      "3  charmander      52\n",
      "4  charmeleon      64\n"
     ]
    }
   ],
   "source": [
    "# Checking for missing values\n",
    "print(\"\\n Missing Values in Dataset:\")\n",
    "print(df.isnull().sum())\n",
    "\n",
    "# Filling missing Attack values with Mean\n",
    "df[\"attack\"] = df[\"attack\"].fillna(df[\"attack\"].mean())\n",
    "print(\"\\n Filling Missing Attack Values with Mean:\")\n",
    "print(df[[\"name\", \"attack\"]].head())\n"
   ]
  },
  {
   "cell_type": "code",
   "execution_count": 27,
   "metadata": {},
   "outputs": [
    {
     "name": "stdout",
     "output_type": "stream",
     "text": [
      "\n",
      "🔹 Merging with Extra Data (Legendary Status):\n",
      "   id        name  height  weight  hp  attack  defense  s_attack  s_defense  \\\n",
      "0   1   bulbasaur       7      69  45      49       49        65         65   \n",
      "1   2     ivysaur      10     130  60      62       63        80         80   \n",
      "2   3    venusaur      20    1000  80      82       83       100        100   \n",
      "3   4  charmander       6      85  39      52       43        60         50   \n",
      "4   5  charmeleon      11     190  58      64       58        80         65   \n",
      "\n",
      "   speed  ... evo_set                                               info  \\\n",
      "0     45  ...       1  A strange seed was planted on its back at birt...   \n",
      "1     60  ...       1  When the bulb on its back grows large, it appe...   \n",
      "2     80  ...       1  The plant blooms when it is absorbing solar en...   \n",
      "3     65  ...       2  Obviously prefers hot places. When it rains, s...   \n",
      "4     80  ...       2  When it swings its burning tail, it elevates t...   \n",
      "\n",
      "  attack_boosted  speed_halved  attack_modified  speed_rank  total_stats  \\\n",
      "0             59          22.5             49.0       748.0          188   \n",
      "1             72          30.0             62.0       554.0          245   \n",
      "2             92          40.0             82.0       321.0          325   \n",
      "3             62          32.5             52.0       489.0          199   \n",
      "4             74          40.0             64.0       321.0          260   \n",
      "\n",
      "   speed_modified  power_score  legendary  \n",
      "0            45.0           94      False  \n",
      "1            60.0          122      False  \n",
      "2            80.0          162       True  \n",
      "3            65.0          117      False  \n",
      "4            80.0          144       True  \n",
      "\n",
      "[5 rows x 21 columns]\n"
     ]
    }
   ],
   "source": [
    "# Creating extra DataFrame for merging\n",
    "extra_data = pd.DataFrame({\n",
    "    \"name\": df[\"name\"].head(),  # Take first few pokemon names\n",
    "    \"legendary\": [False, False, True, False, True]  # Random legendary status\n",
    "})\n",
    "\n",
    "# Merging on 'name' column\n",
    "df_merged = df.merge(extra_data, on=\"name\", how=\"left\")\n",
    "print(\"\\n🔹 Merging with Extra Data (Legendary Status):\")\n",
    "print(df_merged.head())\n"
   ]
  },
  {
   "cell_type": "markdown",
   "metadata": {},
   "source": [
    "# Combining Datasets: \n",
    "1. Concatenation\n",
    "2. Merging\n",
    "3. Joins\n",
    "4. Aggregation and Grouping\n",
    "5. Pivot Tables\n"
   ]
  },
  {
   "cell_type": "code",
   "execution_count": 28,
   "metadata": {},
   "outputs": [
    {
     "name": "stdout",
     "output_type": "stream",
     "text": [
      "          id         name  height  weight  hp  attack  defense  s_attack  \\\n",
      "1022  1023.0   iron-crown    16.0  1560.0  90      72    100.0     122.0   \n",
      "1023  1024.0    terapagos     2.0    65.0  90      65     85.0      65.0   \n",
      "1024  1025.0    pecharunt     3.0     3.0  88      88    160.0      88.0   \n",
      "1025     NaN  Newpokemon1     NaN     NaN  35      55      NaN       NaN   \n",
      "1026     NaN  NewPokemon2     NaN     NaN  45      49      NaN       NaN   \n",
      "\n",
      "      s_defense  speed  ... evo_set  \\\n",
      "1022      108.0   98.0  ...   546.0   \n",
      "1023       85.0   60.0  ...   548.0   \n",
      "1024       88.0   88.0  ...   549.0   \n",
      "1025        NaN    NaN  ...     NaN   \n",
      "1026        NaN    NaN  ...     NaN   \n",
      "\n",
      "                                                   info attack_boosted  \\\n",
      "1022  It resembles a mysterious object introduced in...           82.0   \n",
      "1023  Terapagos protects itself using its power to t...           75.0   \n",
      "1024  It feeds others toxic mochi that draw out desi...           98.0   \n",
      "1025                                                NaN            NaN   \n",
      "1026                                                NaN            NaN   \n",
      "\n",
      "      speed_halved  attack_modified  speed_rank  total_stats  speed_modified  \\\n",
      "1022          49.0             72.0       159.0        360.0           147.0   \n",
      "1023          30.0             65.0       554.0        300.0            60.0   \n",
      "1024          44.0             88.0       257.0        424.0           132.0   \n",
      "1025           NaN              NaN         NaN          NaN             NaN   \n",
      "1026           NaN              NaN         NaN          NaN             NaN   \n",
      "\n",
      "      power_score    type_1  \n",
      "1022        170.0       NaN  \n",
      "1023        125.0       NaN  \n",
      "1024        176.0       NaN  \n",
      "1025          NaN  Electric  \n",
      "1026          NaN     Grass  \n",
      "\n",
      "[5 rows x 21 columns]\n"
     ]
    }
   ],
   "source": [
    "import pandas as pd\n",
    "# Concatenation: \n",
    "# Create a small dataset with new pokemon\n",
    "new_pokemon = pd.DataFrame({\n",
    "    \"name\": [\"Newpokemon1\", \"NewPokemon2\"],\n",
    "    \"type_1\": [\"Electric\", \"Grass\"],\n",
    "    \"hp\": [35, 45],\n",
    "    \"attack\": [55, 49]\n",
    "})\n",
    "\n",
    "# Concatenate vertically (Adding rows)\n",
    "df_combined = pd.concat([df, new_pokemon], ignore_index=True)\n",
    "print(df_combined.tail())\n"
   ]
  },
  {
   "cell_type": "code",
   "execution_count": 29,
   "metadata": {},
   "outputs": [
    {
     "name": "stdout",
     "output_type": "stream",
     "text": [
      "   id        name  height  weight  hp  attack  defense  s_attack  s_defense  \\\n",
      "0   1   bulbasaur       7      69  45      49       49        65         65   \n",
      "1   2     ivysaur      10     130  60      62       63        80         80   \n",
      "2   3    venusaur      20    1000  80      82       83       100        100   \n",
      "3   4  charmander       6      85  39      52       43        60         50   \n",
      "4   5  charmeleon      11     190  58      64       58        80         65   \n",
      "\n",
      "   speed  ... evo_set                                               info  \\\n",
      "0     45  ...       1  A strange seed was planted on its back at birt...   \n",
      "1     60  ...       1  When the bulb on its back grows large, it appe...   \n",
      "2     80  ...       1  The plant blooms when it is absorbing solar en...   \n",
      "3     65  ...       2  Obviously prefers hot places. When it rains, s...   \n",
      "4     80  ...       2  When it swings its burning tail, it elevates t...   \n",
      "\n",
      "  attack_boosted  speed_halved  attack_modified  speed_rank  total_stats  \\\n",
      "0             59          22.5             49.0       748.0          188   \n",
      "1             72          30.0             62.0       554.0          245   \n",
      "2             92          40.0             82.0       321.0          325   \n",
      "3             62          32.5             52.0       489.0          199   \n",
      "4             74          40.0             64.0       321.0          260   \n",
      "\n",
      "   speed_modified  power_score  evolves_to  \n",
      "0            45.0           94         NaN  \n",
      "1            60.0          122         NaN  \n",
      "2            80.0          162         NaN  \n",
      "3            65.0          117         NaN  \n",
      "4            80.0          144         NaN  \n",
      "\n",
      "[5 rows x 21 columns]\n"
     ]
    }
   ],
   "source": [
    "#Merging: \n",
    "# Example evolution dataset\n",
    "evolution_data = pd.DataFrame({\n",
    "    \"name\": [\"Bulbasaur\", \"Charmander\", \"Squirtle\"],\n",
    "    \"evolves_to\": [\"Ivysaur\", \"Charmeleon\", \"Wartortle\"]\n",
    "})\n",
    "\n",
    "# Merge on \"name\" column (Default: INNER JOIN)\n",
    "df_merged = pd.merge(df, evolution_data, on=\"name\", how=\"left\")\n",
    "print(df_merged.head())\n"
   ]
  },
  {
   "cell_type": "code",
   "execution_count": 30,
   "metadata": {},
   "outputs": [
    {
     "name": "stdout",
     "output_type": "stream",
     "text": [
      "\n",
      "             hp  attack  defense type_1  type_2\n",
      "Bulbasaur   45      49       49  Grass  Poison\n",
      "Charmeleon  60      62       63   Fire    None\n",
      "Venusaur    80      82       83  Grass  Poison\n",
      "\n",
      "             hp  attack  defense type_1  type_2\n",
      "Bulbasaur   45      49       49  Grass  Poison\n",
      "Charmeleon  60      62       63   Fire    None\n",
      "Venusaur    80      82       83  Grass  Poison\n",
      "\n",
      "             hp  attack  defense type_1  type_2\n",
      "Bulbasaur   45      49       49  Grass  Poison\n",
      "Charmeleon  60      62       63   Fire    None\n",
      "Venusaur    80      82       83  Grass  Poison\n",
      "\n",
      "             hp  attack  defense type_1  type_2\n",
      "Bulbasaur   45      49       49  Grass  Poison\n",
      "Charmeleon  60      62       63   Fire    None\n",
      "Venusaur    80      82       83  Grass  Poison\n"
     ]
    }
   ],
   "source": [
    "import pandas as pd\n",
    "# Joins: \n",
    "# pokemon stats dataset\n",
    "df_stats = pd.DataFrame({\n",
    "    \"hp\": [45, 60, 80],\n",
    "    \"attack\": [49, 62, 82],\n",
    "    \"defense\": [49, 63, 83]\n",
    "}, index=[\"Bulbasaur\", \"Charmeleon\", \"Venusaur\"])\n",
    "\n",
    "# pokemon types dataset\n",
    "df_types = pd.DataFrame({\n",
    "    \"type_1\": [\"Grass\", \"Fire\", \"Grass\"],\n",
    "    \"type_2\": [\"Poison\", None, \"Poison\"]\n",
    "}, index=[\"Bulbasaur\", \"Charmeleon\", \"Venusaur\"])\n",
    "\n",
    "# Perform the join\n",
    "df_joined = df_stats.join(df_types)\n",
    "print(\"\\n\",df_joined)\n",
    "\n",
    "# INNER JOIN (Only matching pokemon)\n",
    "df_inner = df_stats.join(df_types, how=\"inner\")\n",
    "print(\"\\n\",df_inner)\n",
    "\n",
    "# OUTER JOIN (Keeps all pokemon, fills missing values with NaN)\n",
    "df_outer = df_stats.join(df_types, how=\"outer\")\n",
    "print(\"\\n\",df_outer)\n",
    "\n",
    "# RIGHT JOIN (Keeps all pokemon from df_types)\n",
    "df_right = df_stats.join(df_types, how=\"right\")\n",
    "print(\"\\n\",df_right)"
   ]
  },
  {
   "cell_type": "code",
   "execution_count": 31,
   "metadata": {},
   "outputs": [
    {
     "name": "stdout",
     "output_type": "stream",
     "text": [
      "Total HP: 71939\n",
      "Average Attack: 77.52195121951219\n",
      "Strongest pokemon (Attack): 181\n",
      "Weakest pokemon (Defense): 5\n",
      "Total pokemon: 1025\n"
     ]
    }
   ],
   "source": [
    "import pandas as pd\n",
    "\n",
    "# Aggregating pokemon stats\n",
    "print(\"Total HP:\", df[\"hp\"].sum())      # Sum of all HPs\n",
    "print(\"Average Attack:\", df[\"attack\"].mean())  # Mean attack\n",
    "print(\"Strongest pokemon (Attack):\", df[\"attack\"].max())  # Max attack\n",
    "print(\"Weakest pokemon (Defense):\", df[\"defense\"].min())  # Min defense\n",
    "print(\"Total pokemon:\", df[\"name\"].count())  # Total count\n"
   ]
  },
  {
   "cell_type": "code",
   "execution_count": 32,
   "metadata": {},
   "outputs": [
    {
     "name": "stdout",
     "output_type": "stream",
     "text": [
      "\n",
      "           attack               hp             defense            \n",
      "             min  max   mean  min  max   mean     min  max   mean\n",
      "name                                                             \n",
      "abomasnow     92   92   92.0   90   90   90.0      75   75   75.0\n",
      "abra          20   20   20.0   25   25   25.0      15   15   15.0\n",
      "absol        130  130  130.0   65   65   65.0      60   60   60.0\n",
      "accelgor      70   70   70.0   80   80   80.0      40   40   40.0\n",
      "aegislash     50   50   50.0   60   60   60.0     140  140  140.0\n",
      "...          ...  ...    ...  ...  ...    ...     ...  ...    ...\n",
      "zoroark      105  105  105.0   60   60   60.0      60   60   60.0\n",
      "zorua         65   65   65.0   40   40   40.0      40   40   40.0\n",
      "zubat         45   45   45.0   40   40   40.0      35   35   35.0\n",
      "zweilous      85   85   85.0   72   72   72.0      70   70   70.0\n",
      "zygarde      100  100  100.0  108  108  108.0     121  121  121.0\n",
      "\n",
      "[1025 rows x 9 columns]\n"
     ]
    }
   ],
   "source": [
    "# Group-By: \n",
    "# Group pokemon by Type and Get Stats\n",
    "type_stats = df.groupby(\"name\")[[\"attack\", \"hp\", \"defense\"]].agg([\"min\", \"max\", \"mean\"])\n",
    "print(\"\\n\",type_stats)\n"
   ]
  },
  {
   "cell_type": "code",
   "execution_count": 33,
   "metadata": {},
   "outputs": [
    {
     "name": "stdout",
     "output_type": "stream",
     "text": [
      "\n",
      " attack\n",
      "5       2\n",
      "10      3\n",
      "15      1\n",
      "20     10\n",
      "22      1\n",
      "       ..\n",
      "147     1\n",
      "150     4\n",
      "160     2\n",
      "165     1\n",
      "181     1\n",
      "Name: name, Length: 117, dtype: int64\n"
     ]
    }
   ],
   "source": [
    "#GroupBy - Count pokemon per Group\n",
    "type_counts = df.groupby(\"attack\")[\"name\"].count()\n",
    "print(\"\\n\",type_counts)\n"
   ]
  },
  {
   "cell_type": "code",
   "execution_count": 34,
   "metadata": {},
   "outputs": [
    {
     "name": "stdout",
     "output_type": "stream",
     "text": [
      "          name  attack\n",
      "919      lokix     102\n",
      "736  charjabug      82\n",
      "742   ribombee      55\n",
      "793   buzzwole     139\n",
      "635   larvesta      85\n",
      "..         ...     ...\n",
      "210   qwilfish      95\n",
      "778    bruxish     105\n",
      "833    drednaw     115\n",
      "394   empoleon      86\n",
      "98     kingler     130\n",
      "\n",
      "[203 rows x 2 columns]\n"
     ]
    }
   ],
   "source": [
    "#GroupBy - Find the Strongest pokemon per Type\n",
    "strongest_per_type = df.loc[df.groupby(\"type\")[\"attack\"].idxmax(), [\"name\", \"attack\"]]\n",
    "print(strongest_per_type)\n"
   ]
  },
  {
   "cell_type": "code",
   "execution_count": 35,
   "metadata": {},
   "outputs": [
    {
     "name": "stdout",
     "output_type": "stream",
     "text": [
      "type\n",
      "{bug,dark}         71.000000\n",
      "{bug,electric}     63.500000\n",
      "{bug,fairy}        50.000000\n",
      "{bug,fighting}     85.750000\n",
      "{bug,fire}         70.000000\n",
      "                     ...    \n",
      "{water,poison}     61.666667\n",
      "{water,psychic}    83.000000\n",
      "{water,rock}       76.600000\n",
      "{water,steel}      84.000000\n",
      "{water}            64.891892\n",
      "Name: hp, Length: 203, dtype: float64\n"
     ]
    }
   ],
   "source": [
    "#GroupBy - Average HP per type\n",
    "print(df.groupby(\"type\")[\"hp\"].mean())"
   ]
  },
  {
   "cell_type": "code",
   "execution_count": 36,
   "metadata": {},
   "outputs": [
    {
     "name": "stdout",
     "output_type": "stream",
     "text": [
      "                     attack\n",
      "type                       \n",
      "{bug,dark}       102.000000\n",
      "{bug,electric}    69.000000\n",
      "{bug,fairy}       50.000000\n",
      "{bug,fighting}   134.000000\n",
      "{bug,fire}        72.500000\n",
      "...                     ...\n",
      "{water,poison}    68.333333\n",
      "{water,psychic}   82.833333\n",
      "{water,rock}      89.200000\n",
      "{water,steel}     86.000000\n",
      "{water}           69.500000\n",
      "\n",
      "[203 rows x 1 columns]\n"
     ]
    }
   ],
   "source": [
    "#Pivot tables:\n",
    "#Average Attack per pokemon Type\n",
    "pivot_table = df.pivot_table(values=\"attack\", index=\"type\", aggfunc=\"mean\")\n",
    "print(pivot_table)\n"
   ]
  },
  {
   "cell_type": "code",
   "execution_count": 37,
   "metadata": {},
   "outputs": [
    {
     "name": "stdout",
     "output_type": "stream",
     "text": [
      "                   min    max        mean\n",
      "                attack attack      attack\n",
      "type                                     \n",
      "{bug,dark}         102    102  102.000000\n",
      "{bug,electric}      47     82   69.000000\n",
      "{bug,fairy}         45     55   50.000000\n",
      "{bug,fighting}     125    139  134.000000\n",
      "{bug,fire}          60     85   72.500000\n",
      "...                ...    ...         ...\n",
      "{water,poison}      40     95   68.333333\n",
      "{water,psychic}     65    105   82.833333\n",
      "{water,rock}        55    115   89.200000\n",
      "{water,steel}       86     86   86.000000\n",
      "{water}             10    130   69.500000\n",
      "\n",
      "[203 rows x 3 columns]\n"
     ]
    }
   ],
   "source": [
    "# Pivot Table with Multiple Aggregations (Min, Max, Mean Attack)\n",
    "pivot_table = df.pivot_table(values=\"attack\", index=\"type\", aggfunc=[\"min\", \"max\", \"mean\"])\n",
    "print(pivot_table)\n"
   ]
  },
  {
   "cell_type": "code",
   "execution_count": 38,
   "metadata": {},
   "outputs": [
    {
     "name": "stdout",
     "output_type": "stream",
     "text": [
      "                 name\n",
      "type                 \n",
      "{bug,dark}          1\n",
      "{bug,electric}      4\n",
      "{bug,fairy}         2\n",
      "{bug,fighting}      4\n",
      "{bug,fire}          2\n",
      "...               ...\n",
      "{water,poison}      3\n",
      "{water,psychic}     6\n",
      "{water,rock}        5\n",
      "{water,steel}       1\n",
      "{water}            74\n",
      "\n",
      "[203 rows x 1 columns]\n"
     ]
    }
   ],
   "source": [
    "#Counting pokemon per Type (Using Pivot Table)\n",
    "pivot_table = df.pivot_table(values=\"name\", index=\"type\", aggfunc=\"count\")\n",
    "print(pivot_table)\n"
   ]
  },
  {
   "cell_type": "code",
   "execution_count": null,
   "metadata": {},
   "outputs": [],
   "source": []
  }
 ],
 "metadata": {
  "kernelspec": {
   "display_name": "Python 3",
   "language": "python",
   "name": "python3"
  },
  "language_info": {
   "codemirror_mode": {
    "name": "ipython",
    "version": 3
   },
   "file_extension": ".py",
   "mimetype": "text/x-python",
   "name": "python",
   "nbconvert_exporter": "python",
   "pygments_lexer": "ipython3",
   "version": "3.12.3"
  }
 },
 "nbformat": 4,
 "nbformat_minor": 2
}
